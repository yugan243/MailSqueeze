{
 "cells": [
  {
   "cell_type": "markdown",
   "id": "eddb2678",
   "metadata": {},
   "source": [
    "### 1. Setting up the Environment"
   ]
  },
  {
   "cell_type": "code",
   "execution_count": 56,
   "id": "d545f433",
   "metadata": {},
   "outputs": [],
   "source": [
    "import os\n",
    "from dotenv import load_dotenv\n",
    "from googleapiclient.discovery import build\n",
    "from google_auth_oauthlib.flow import InstalledAppFlow\n",
    "from google.auth.transport.requests import Request\n",
    "from google.oauth2.credentials import Credentials\n",
    "import google.generativeai as genai\n",
    "import base64\n",
    "import pickle\n",
    "import requests"
   ]
  },
  {
   "cell_type": "markdown",
   "id": "60767e2e",
   "metadata": {},
   "source": [
    "### 2. Load the env"
   ]
  },
  {
   "cell_type": "code",
   "execution_count": 57,
   "id": "158bb5a2",
   "metadata": {},
   "outputs": [],
   "source": [
    "load_dotenv()\n",
    "genai.configure(api_key=os.getenv(\"GEMINI_API_KEY\"))\n"
   ]
  },
  {
   "cell_type": "markdown",
   "id": "6db0396d",
   "metadata": {},
   "source": [
    "### 3. Gmail Authentication"
   ]
  },
  {
   "cell_type": "code",
   "execution_count": 58,
   "id": "f2436fe7",
   "metadata": {},
   "outputs": [],
   "source": [
    "SCOPES = ['https://www.googleapis.com/auth/gmail.readonly']\n",
    "\n",
    "def get_gmail_service():\n",
    "    creds = None\n",
    "    if os.path.exists('tokens.json'):\n",
    "        creds = Credentials.from_authorized_user_file('tokens.json', SCOPES)\n",
    "        \n",
    "    if not creds or not creds.valid:\n",
    "        if creds and creds.expired and creds.refresh_token:\n",
    "            creds.refresh(Request())\n",
    "        else:\n",
    "            flow = InstalledAppFlow.from_client_secrets_file(\n",
    "                'credentials.json', SCOPES)\n",
    "            creds = flow.run_local_server(port=0)\n",
    "            \n",
    "        with open('tokens.json', 'w') as token:\n",
    "            token.write(creds.to_json())\n",
    "            \n",
    "    service = build('gmail', 'v1', credentials=creds)\n",
    "    print(\"Gmail service created successfully.\")\n",
    "    return service"
   ]
  },
  {
   "cell_type": "markdown",
   "id": "6bd702e8",
   "metadata": {},
   "source": [
    "### 4. Fetch unread email IDs"
   ]
  },
  {
   "cell_type": "code",
   "execution_count": 59,
   "id": "acc54d68",
   "metadata": {},
   "outputs": [],
   "source": [
    "def get_unread_emails(service, max_results=5):\n",
    "    results = service.users().messages().list(\n",
    "        userId='me', \n",
    "        labelIds=['INBOX'], \n",
    "        q='is:unread', \n",
    "        maxResults=max_results\n",
    "        ).execute()\n",
    "    return results.get('messages', [])\n"
   ]
  },
  {
   "cell_type": "markdown",
   "id": "f0e1db28",
   "metadata": {},
   "source": [
    "### 5. Extract email content"
   ]
  },
  {
   "cell_type": "code",
   "execution_count": 60,
   "id": "f9898619",
   "metadata": {},
   "outputs": [],
   "source": [
    "def get_email_body(service, msg_id):\n",
    "    msg = service.users().messages().get(userId='me', id=msg_id, format='full').execute()\n",
    "    parts = msg['payload'].get('parts', [])\n",
    "    for part in parts:\n",
    "        if part['mimeType'] == 'text/plain':\n",
    "            data = part['body']['data']\n",
    "            text = base64.urlsafe_b64decode(data).decode('utf-8')\n",
    "            return text\n",
    "    return \"No readable content found.\"\n"
   ]
  },
  {
   "cell_type": "markdown",
   "id": "97cbe494",
   "metadata": {},
   "source": [
    "### 6. Summarize with Gemini-2.5-flash"
   ]
  },
  {
   "cell_type": "code",
   "execution_count": 62,
   "id": "d0f8f705",
   "metadata": {},
   "outputs": [],
   "source": [
    "\n",
    "model = genai.GenerativeModel('models/gemini-2.5-flash')\n",
    "\n",
    "def summarize_with_gemini(text):\n",
    "    prompt = f\"Summarize this email:\\n\\n{text}\"\n",
    "    response = model.generate_content(prompt)\n",
    "    return response.text.strip()\n"
   ]
  },
  {
   "cell_type": "markdown",
   "id": "7e6679c8",
   "metadata": {},
   "source": [
    "### 7. Send to Telegram"
   ]
  },
  {
   "cell_type": "code",
   "execution_count": 63,
   "id": "44cf5a7f",
   "metadata": {},
   "outputs": [],
   "source": [
    "\n",
    "def send_to_telegram(message):\n",
    "    token = os.getenv('TELEGRAM_BOT_TOKEN')\n",
    "    chat_id = os.getenv('TELEGRAM_CHAT_ID')\n",
    "    url = f\"https://api.telegram.org/bot{token}/sendMessage\"\n",
    "    data = {'chat_id': chat_id, 'text': message}\n",
    "    \n",
    "    try:\n",
    "        response = requests.post(url, data=data)\n",
    "        response.raise_for_status()  # Raise error for bad HTTP status\n",
    "        \n",
    "        result = response.json()\n",
    "        if not result.get('ok'):\n",
    "            print(\"Telegram API returned an error:\", result)\n",
    "            # You can also raise an exception or log it here\n",
    "            \n",
    "        else:\n",
    "            print(\"Message sent successfully!\")\n",
    "\n",
    "    except requests.exceptions.RequestException as e:\n",
    "        print(\"Request failed:\", e)\n",
    "        # Handle network errors, timeouts, etc.\n"
   ]
  },
  {
   "cell_type": "markdown",
   "id": "3cbc60d1",
   "metadata": {},
   "source": [
    "### 8. Test the Flow"
   ]
  },
  {
   "cell_type": "code",
   "execution_count": 64,
   "id": "4f056922",
   "metadata": {},
   "outputs": [
    {
     "name": "stdout",
     "output_type": "stream",
     "text": [
      "Gmail service created successfully.\n",
      "Summary:\n",
      " This is an alert from Google to nimsaraekanayakayu@gmail.com, informing you that MailSqueeze has been granted access to some of your Google Account data. It prompts you to take action if you didn't authorize this access, suggesting you check your account activity and secure it. The email provides links to review this activity, manage MailSqueeze's access, and view other security notifications.\n",
      "Message sent successfully!\n",
      "Summary:\n",
      " This email announces \"Win A Lambo Round 12,\" a contest offering participants the chance to win a Lamborghini. To enter, users need \"Golden Tickets.\" The email details four ways to acquire these tickets:\n",
      "\n",
      "1.  **Playing the game:** Earn 1 ticket for every 0.005 BTC wagered on Multiply BTC/Betting.\n",
      "2.  **Buying tickets:** Purchase them for 0.00025 BTC each.\n",
      "3.  **Wheel of Fortune:** Win up to 50 tickets using free spin credits.\n",
      "4.  **FreeBitco.in Premium:** Premium Members get daily free spins, which can lead to more tickets.\n",
      "\n",
      "It includes a link to participate in the round.\n",
      "Message sent successfully!\n",
      "Summary:\n",
      " This email announces a limited-time promotion offering **2X Reward Points for the next 48 hours.**\n",
      "\n",
      "These doubled points allow users to earn rewards like iPhones, hardware wallets, gift cards, and an Apple Watch Series 9 twice as fast. The bonus points apply to specific activities:\n",
      "*   **Bitcoin Dice:** Double points on every free roll, Multiply BTC, and referral free rolls.\n",
      "*   **Bitcoin Betting:** Double points on every 500 Satoshi bet.\n",
      "Message sent successfully!\n",
      "Summary:\n",
      " This Product Hunt daily digest for Tuesday, July 1st, titled \"Your toolbox, reloaded,\" features several new tools. Key highlights include:\n",
      "\n",
      "*   **Cursor Agents:** An AI code companion that allows users to perform code tasks, grab live docs, and review diffs from any browser or mobile device.\n",
      "*   **Lunacal:** A tool that transforms standard scheduling links into custom landing pages with embedded videos, testimonials, and FAQs to pre-sell prospects.\n",
      "*   **Dittofeed:** An embeddable messaging suite for apps, enabling quick integration of email, SMS, push, WhatsApp, and Slack messaging features.\n",
      "\n",
      "The email also includes a sponsored advertisement for **Runner H**, an AI assistant that automates a wide range of tasks from email management and spreadsheet creation to job applications and vacation planning. Additionally, it promotes a community initiative offering free feedback on pricing pages and lists yesterday's top 10 trending products on Product Hunt.\n",
      "Message sent successfully!\n",
      "Summary:\n",
      " This email from edX promotes their summer learning opportunities, encouraging recipients to acquire new skills and make the summer memorable. It highlights a wide range of online \"Summer Holiday Programs\" and \"Summer Courses\" covering diverse subjects such as professional development, personal well-being, culinary arts, language learning, and general interest topics (e.g., happiness, cooking, Spanish, brewing, music). The email invites recipients to explore and enroll in these self-paced courses.\n",
      "Message sent successfully!\n"
     ]
    }
   ],
   "source": [
    "service = get_gmail_service()\n",
    "messages = get_unread_emails(service)\n",
    "\n",
    "if not messages:\n",
    "    print(\"No unread emails found.\")\n",
    "else:\n",
    "    for msg in messages:\n",
    "        text = get_email_body(service, msg['id'])\n",
    "        summary = summarize_with_gemini(text)\n",
    "        print(\"Summary:\\n\", summary)\n",
    "        send_to_telegram(f\"📧 New Email Summary:\\n{summary}\")\n"
   ]
  },
  {
   "cell_type": "code",
   "execution_count": null,
   "id": "6e96bcc5",
   "metadata": {},
   "outputs": [],
   "source": []
  }
 ],
 "metadata": {
  "kernelspec": {
   "display_name": "venv",
   "language": "python",
   "name": "python3"
  },
  "language_info": {
   "codemirror_mode": {
    "name": "ipython",
    "version": 3
   },
   "file_extension": ".py",
   "mimetype": "text/x-python",
   "name": "python",
   "nbconvert_exporter": "python",
   "pygments_lexer": "ipython3",
   "version": "3.12.8"
  }
 },
 "nbformat": 4,
 "nbformat_minor": 5
}
