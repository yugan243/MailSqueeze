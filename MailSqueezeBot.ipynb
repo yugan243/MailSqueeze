{
 "cells": [
  {
   "cell_type": "markdown",
   "id": "eddb2678",
   "metadata": {},
   "source": [
    "### 1. Setting up the Environment"
   ]
  },
  {
   "cell_type": "code",
   "execution_count": 1,
   "id": "d545f433",
   "metadata": {},
   "outputs": [],
   "source": [
    "import os\n",
    "from dotenv import load_dotenv\n",
    "from googleapiclient.discovery import build\n",
    "from google_auth_oauthlib.flow import InstalledAppFlow\n",
    "from google.auth.transport.requests import Request\n",
    "import base64\n",
    "import pickle\n",
    "import openai\n",
    "import requests"
   ]
  },
  {
   "cell_type": "markdown",
   "id": "60767e2e",
   "metadata": {},
   "source": [
    "### 2. Load the env"
   ]
  },
  {
   "cell_type": "code",
   "execution_count": 2,
   "id": "158bb5a2",
   "metadata": {},
   "outputs": [],
   "source": [
    "load_dotenv()\n",
    "openai.api_key = os.getenv(\"OPENAI_API_KEY\")"
   ]
  },
  {
   "cell_type": "markdown",
   "id": "6db0396d",
   "metadata": {},
   "source": [
    "### 3. Gmail Authentication"
   ]
  },
  {
   "cell_type": "code",
   "execution_count": 5,
   "id": "f2436fe7",
   "metadata": {},
   "outputs": [],
   "source": [
    "SCOPES = ['https://www.googleapis.com/auth/gmail.readonly']\n",
    "\n",
    "def get_gmail_service():\n",
    "    creds = None\n",
    "    if os.path.exists('token.json'):\n",
    "        creds = Credentials.from_authorized_user_file('token.json', SCOPES)\n",
    "        \n",
    "    if not creds or not creds.valid:\n",
    "        if creds and creds.expired and creds.refresh_token:\n",
    "            creds.refresh(Request())\n",
    "        else:\n",
    "            flow = InstalledAppFlow.from_client_secrets_file(\n",
    "                'credentials.json', SCOPES)\n",
    "            creds = flow.run_local_server(port=0)\n",
    "            \n",
    "        with open('token.json', 'wb') as token:\n",
    "            token.write(creds.to_json())\n",
    "            \n",
    "    service = build('gmail', 'v1', credentials=creds)\n",
    "    print(\"Gmail service created successfully.\")\n",
    "    return service"
   ]
  },
  {
   "cell_type": "markdown",
   "id": "6bd702e8",
   "metadata": {},
   "source": [
    "### 4. Fetch unread email IDs"
   ]
  },
  {
   "cell_type": "code",
   "execution_count": 6,
   "id": "acc54d68",
   "metadata": {},
   "outputs": [],
   "source": [
    "def get_unread_emails(service, max_results=5):\n",
    "    results = service.users().messages().list(\n",
    "        userId='me', \n",
    "        labelIds=['INBOX'], \n",
    "        q='is:unread', \n",
    "        maxResults=max_results\n",
    "        ).execute()\n",
    "    return results.get('messages', [])\n"
   ]
  },
  {
   "cell_type": "markdown",
   "id": "f0e1db28",
   "metadata": {},
   "source": [
    "### 5. Extract email content"
   ]
  },
  {
   "cell_type": "code",
   "execution_count": 7,
   "id": "f9898619",
   "metadata": {},
   "outputs": [],
   "source": [
    "def get_email_body(service, msg_id):\n",
    "    msg = service.users().messages().get(userId='me', id=msg_id, format='full').execute()\n",
    "    parts = msg['payload'].get('parts', [])\n",
    "    for part in parts:\n",
    "        if part['mimeType'] == 'text/plain':\n",
    "            data = part['body']['data']\n",
    "            text = base64.urlsafe_b64decode(data).decode('utf-8')\n",
    "            return text\n",
    "    return \"No readable content found.\"\n"
   ]
  },
  {
   "cell_type": "markdown",
   "id": "97cbe494",
   "metadata": {},
   "source": [
    "### 6. Summarize with GPT"
   ]
  },
  {
   "cell_type": "code",
   "execution_count": null,
   "id": "d0f8f705",
   "metadata": {},
   "outputs": [],
   "source": [
    "def summarize_with_gpt(text):\n",
    "    prompt = f\"Summarize this email:\\n\\n{text}\"\n",
    "    response = openai.ChatCompletion.create(\n",
    "        model=\"gpt-3.5-turbo\",\n",
    "        messages=[{\"role\": \"system\", \"Content\": \"You are a professional assistant. Summarize emails concisely and formally.\"},\n",
    "                  {\"role\": \"user\", \"content\": prompt}\n",
    "                  ],\n",
    "        max_tokens=150\n",
    "    )\n",
    "    summary =  response.choices[0].message.content.strip()\n",
    "    return summary\n"
   ]
  },
  {
   "cell_type": "markdown",
   "id": "7e6679c8",
   "metadata": {},
   "source": [
    "### 7. Send to Telegram"
   ]
  },
  {
   "cell_type": "code",
   "execution_count": null,
   "id": "44cf5a7f",
   "metadata": {},
   "outputs": [],
   "source": []
  }
 ],
 "metadata": {
  "kernelspec": {
   "display_name": "venv",
   "language": "python",
   "name": "python3"
  },
  "language_info": {
   "codemirror_mode": {
    "name": "ipython",
    "version": 3
   },
   "file_extension": ".py",
   "mimetype": "text/x-python",
   "name": "python",
   "nbconvert_exporter": "python",
   "pygments_lexer": "ipython3",
   "version": "3.12.8"
  }
 },
 "nbformat": 4,
 "nbformat_minor": 5
}
