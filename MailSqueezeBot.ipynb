{
 "cells": [
  {
   "cell_type": "markdown",
   "id": "eddb2678",
   "metadata": {},
   "source": [
    "### 1. Setting up the Environment"
   ]
  },
  {
   "cell_type": "code",
   "execution_count": 1,
   "id": "d545f433",
   "metadata": {},
   "outputs": [
    {
     "name": "stderr",
     "output_type": "stream",
     "text": [
      "d:\\My Projects\\MailSqueeze\\venv\\Lib\\site-packages\\tqdm\\auto.py:21: TqdmWarning: IProgress not found. Please update jupyter and ipywidgets. See https://ipywidgets.readthedocs.io/en/stable/user_install.html\n",
      "  from .autonotebook import tqdm as notebook_tqdm\n"
     ]
    }
   ],
   "source": [
    "import os\n",
    "from dotenv import load_dotenv\n",
    "from googleapiclient.discovery import build\n",
    "from google_auth_oauthlib.flow import InstalledAppFlow\n",
    "from google.auth.transport.requests import Request\n",
    "from google.oauth2.credentials import Credentials\n",
    "import google.generativeai as genai\n",
    "import base64\n",
    "import pickle\n",
    "import requests"
   ]
  },
  {
   "cell_type": "markdown",
   "id": "60767e2e",
   "metadata": {},
   "source": [
    "### 2. Load the env"
   ]
  },
  {
   "cell_type": "code",
   "execution_count": 2,
   "id": "158bb5a2",
   "metadata": {},
   "outputs": [],
   "source": [
    "load_dotenv()\n",
    "genai.configure(api_key=os.getenv(\"GEMINI_API_KEY\"))\n"
   ]
  },
  {
   "cell_type": "markdown",
   "id": "6db0396d",
   "metadata": {},
   "source": [
    "### 3. Gmail Authentication"
   ]
  },
  {
   "cell_type": "code",
   "execution_count": 3,
   "id": "f2436fe7",
   "metadata": {},
   "outputs": [],
   "source": [
    "SCOPES = ['https://www.googleapis.com/auth/gmail.readonly']\n",
    "\n",
    "def get_gmail_service():\n",
    "    creds = None\n",
    "    if os.path.exists('tokens.json'):\n",
    "        creds = Credentials.from_authorized_user_file('tokens.json', SCOPES)\n",
    "        \n",
    "    if not creds or not creds.valid:\n",
    "        if creds and creds.expired and creds.refresh_token:\n",
    "            creds.refresh(Request())\n",
    "        else:\n",
    "            flow = InstalledAppFlow.from_client_secrets_file(\n",
    "                'credentials.json', SCOPES)\n",
    "            creds = flow.run_local_server(port=0)\n",
    "            \n",
    "        with open('tokens.json', 'w') as token:\n",
    "            token.write(creds.to_json())\n",
    "            \n",
    "    service = build('gmail', 'v1', credentials=creds)\n",
    "    print(\"Gmail service created successfully.\")\n",
    "    return service"
   ]
  },
  {
   "cell_type": "markdown",
   "id": "6bd702e8",
   "metadata": {},
   "source": [
    "### 4. Fetch unread email IDs"
   ]
  },
  {
   "cell_type": "code",
   "execution_count": 4,
   "id": "acc54d68",
   "metadata": {},
   "outputs": [],
   "source": [
    "def get_unread_emails(service, max_results=5):\n",
    "    results = service.users().messages().list(\n",
    "        userId='me', \n",
    "        labelIds=['INBOX'], \n",
    "        q='is:unread', \n",
    "        maxResults=max_results\n",
    "        ).execute()\n",
    "    return results.get('messages', [])\n"
   ]
  },
  {
   "cell_type": "markdown",
   "id": "f0e1db28",
   "metadata": {},
   "source": [
    "### 5. Extract email content"
   ]
  },
  {
   "cell_type": "code",
   "execution_count": 5,
   "id": "f9898619",
   "metadata": {},
   "outputs": [],
   "source": [
    "def get_email_body(service, msg_id):\n",
    "    msg = service.users().messages().get(userId='me', id=msg_id, format='full').execute()\n",
    "    parts = msg['payload'].get('parts', [])\n",
    "    for part in parts:\n",
    "        if part['mimeType'] == 'text/plain':\n",
    "            data = part['body']['data']\n",
    "            text = base64.urlsafe_b64decode(data).decode('utf-8')\n",
    "            return text\n",
    "    return \"No readable content found.\"\n"
   ]
  },
  {
   "cell_type": "markdown",
   "id": "97cbe494",
   "metadata": {},
   "source": [
    "### 6. Summarize with Gemini"
   ]
  },
  {
   "cell_type": "code",
   "execution_count": 11,
   "id": "2b6bafff",
   "metadata": {},
   "outputs": [
    {
     "name": "stdout",
     "output_type": "stream",
     "text": [
      "Available models:\n",
      "- models/embedding-gecko-001 : Obtain a distributed representation of a text.\n",
      "- models/gemini-1.0-pro-vision-latest : The original Gemini 1.0 Pro Vision model version which was optimized for image understanding. Gemini 1.0 Pro Vision was deprecated on July 12, 2024. Move to a newer Gemini version.\n",
      "- models/gemini-pro-vision : The original Gemini 1.0 Pro Vision model version which was optimized for image understanding. Gemini 1.0 Pro Vision was deprecated on July 12, 2024. Move to a newer Gemini version.\n",
      "- models/gemini-1.5-pro-latest : Alias that points to the most recent production (non-experimental) release of Gemini 1.5 Pro, our mid-size multimodal model that supports up to 2 million tokens.\n",
      "- models/gemini-1.5-pro-002 : Stable version of Gemini 1.5 Pro, our mid-size multimodal model that supports up to 2 million tokens, released in September of 2024.\n",
      "- models/gemini-1.5-pro : Stable version of Gemini 1.5 Pro, our mid-size multimodal model that supports up to 2 million tokens, released in May of 2024.\n",
      "- models/gemini-1.5-flash-latest : Alias that points to the most recent production (non-experimental) release of Gemini 1.5 Flash, our fast and versatile multimodal model for scaling across diverse tasks.\n",
      "- models/gemini-1.5-flash : Alias that points to the most recent stable version of Gemini 1.5 Flash, our fast and versatile multimodal model for scaling across diverse tasks.\n",
      "- models/gemini-1.5-flash-002 : Stable version of Gemini 1.5 Flash, our fast and versatile multimodal model for scaling across diverse tasks, released in September of 2024.\n",
      "- models/gemini-1.5-flash-8b : Stable version of Gemini 1.5 Flash-8B, our smallest and most cost effective Flash model, released in October of 2024.\n",
      "- models/gemini-1.5-flash-8b-001 : Stable version of Gemini 1.5 Flash-8B, our smallest and most cost effective Flash model, released in October of 2024.\n",
      "- models/gemini-1.5-flash-8b-latest : Alias that points to the most recent production (non-experimental) release of Gemini 1.5 Flash-8B, our smallest and most cost effective Flash model, released in October of 2024.\n",
      "- models/gemini-2.5-pro-preview-03-25 : Gemini 2.5 Pro Preview 03-25\n",
      "- models/gemini-2.5-flash-preview-04-17 : Preview release (April 17th, 2025) of Gemini 2.5 Flash\n",
      "- models/gemini-2.5-flash-preview-05-20 : Preview release (April 17th, 2025) of Gemini 2.5 Flash\n",
      "- models/gemini-2.5-flash : Stable version of Gemini 2.5 Flash, our mid-size multimodal model that supports up to 1 million tokens, released in June of 2025.\n",
      "- models/gemini-2.5-flash-preview-04-17-thinking : Preview release (April 17th, 2025) of Gemini 2.5 Flash\n",
      "- models/gemini-2.5-flash-lite-preview-06-17 : Preview release (June 11th, 2025) of Gemini 2.5 Flash-Lite\n",
      "- models/gemini-2.5-pro-preview-05-06 : Preview release (May 6th, 2025) of Gemini 2.5 Pro\n",
      "- models/gemini-2.5-pro-preview-06-05 : Preview release (June 5th, 2025) of Gemini 2.5 Pro\n",
      "- models/gemini-2.5-pro : Stable release (June 17th, 2025) of Gemini 2.5 Pro\n",
      "- models/gemini-2.0-flash-exp : Gemini 2.0 Flash Experimental\n",
      "- models/gemini-2.0-flash : Gemini 2.0 Flash\n",
      "- models/gemini-2.0-flash-001 : Stable version of Gemini 2.0 Flash, our fast and versatile multimodal model for scaling across diverse tasks, released in January of 2025.\n",
      "- models/gemini-2.0-flash-exp-image-generation : Gemini 2.0 Flash (Image Generation) Experimental\n",
      "- models/gemini-2.0-flash-lite-001 : Stable version of Gemini 2.0 Flash-Lite\n",
      "- models/gemini-2.0-flash-lite : Gemini 2.0 Flash-Lite\n",
      "- models/gemini-2.0-flash-preview-image-generation : Gemini 2.0 Flash Preview Image Generation\n",
      "- models/gemini-2.0-flash-lite-preview-02-05 : Preview release (February 5th, 2025) of Gemini 2.0 Flash-Lite\n",
      "- models/gemini-2.0-flash-lite-preview : Preview release (February 5th, 2025) of Gemini 2.0 Flash-Lite\n",
      "- models/gemini-2.0-pro-exp : Experimental release (March 25th, 2025) of Gemini 2.5 Pro\n",
      "- models/gemini-2.0-pro-exp-02-05 : Experimental release (March 25th, 2025) of Gemini 2.5 Pro\n",
      "- models/gemini-exp-1206 : Experimental release (March 25th, 2025) of Gemini 2.5 Pro\n",
      "- models/gemini-2.0-flash-thinking-exp-01-21 : Preview release (April 17th, 2025) of Gemini 2.5 Flash\n",
      "- models/gemini-2.0-flash-thinking-exp : Preview release (April 17th, 2025) of Gemini 2.5 Flash\n",
      "- models/gemini-2.0-flash-thinking-exp-1219 : Preview release (April 17th, 2025) of Gemini 2.5 Flash\n",
      "- models/gemini-2.5-flash-preview-tts : Gemini 2.5 Flash Preview TTS\n",
      "- models/gemini-2.5-pro-preview-tts : Gemini 2.5 Pro Preview TTS\n",
      "- models/learnlm-2.0-flash-experimental : LearnLM 2.0 Flash Experimental\n",
      "- models/gemma-3-1b-it : \n",
      "- models/gemma-3-4b-it : \n",
      "- models/gemma-3-12b-it : \n",
      "- models/gemma-3-27b-it : \n",
      "- models/gemma-3n-e4b-it : \n",
      "- models/gemma-3n-e2b-it : \n",
      "- models/embedding-001 : Obtain a distributed representation of a text.\n",
      "- models/text-embedding-004 : Obtain a distributed representation of a text.\n",
      "- models/gemini-embedding-exp-03-07 : Obtain a distributed representation of a text.\n",
      "- models/gemini-embedding-exp : Obtain a distributed representation of a text.\n",
      "- models/aqa : Model trained to return answers to questions that are grounded in provided sources, along with estimating answerable probability.\n",
      "- models/imagen-3.0-generate-002 : Vertex served Imagen 3.0 002 model\n",
      "- models/imagen-4.0-generate-preview-06-06 : Vertex served Imagen 4.0 model\n",
      "- models/imagen-4.0-ultra-generate-preview-06-06 : Vertex served Imagen 4.0 ultra model\n",
      "- models/veo-2.0-generate-001 : Vertex served Veo 2 model. Access to this model requires billing to be enabled on the associated Google Cloud Platform account. Please visit https://console.cloud.google.com/billing to enable it.\n",
      "- models/gemini-2.5-flash-preview-native-audio-dialog : Gemini 2.5 Flash Preview Native Audio Dialog\n",
      "- models/gemini-2.5-flash-exp-native-audio-thinking-dialog : Gemini 2.5 Flash Exp Native Audio Thinking Dialog\n",
      "- models/gemini-2.0-flash-live-001 : Gemini 2.0 Flash 001\n",
      "- models/gemini-live-2.5-flash-preview : Gemini Live 2.5 Flash Preview\n"
     ]
    }
   ],
   "source": [
    "import google.generativeai as genai\n",
    "import os\n",
    "from dotenv import load_dotenv\n",
    "\n",
    "load_dotenv()\n",
    "genai.configure(api_key=os.getenv(\"GEMINI_API_KEY\"))\n",
    "\n",
    "print(\"Available models:\")\n",
    "for model in genai.list_models():\n",
    "    print(f\"- {model.name} : {model.description}\")\n"
   ]
  },
  {
   "cell_type": "code",
   "execution_count": 12,
   "id": "d0f8f705",
   "metadata": {},
   "outputs": [],
   "source": [
    "\n",
    "model = genai.GenerativeModel('models/gemini-2.5-flash')\n",
    "\n",
    "def summarize_with_gemini(text):\n",
    "    prompt = f\"Summarize this email:\\n\\n{text}\"\n",
    "    response = model.generate_content(prompt)\n",
    "    return response.text.strip()\n"
   ]
  },
  {
   "cell_type": "markdown",
   "id": "7e6679c8",
   "metadata": {},
   "source": [
    "### 7. Send to Telegram"
   ]
  },
  {
   "cell_type": "code",
   "execution_count": 8,
   "id": "44cf5a7f",
   "metadata": {},
   "outputs": [],
   "source": [
    "\n",
    "def send_to_telegram(message):\n",
    "    token = os.getenv('TELEGRAM_BOT_TOKEN')\n",
    "    chat_id = os.getenv('TELEGRAM_CHAT_ID')\n",
    "    url = f\"https://api.telegram.org/bot{token}/sendMessage\"\n",
    "    data = {'chat_id': chat_id, 'text': message}\n",
    "    \n",
    "    try:\n",
    "        response = requests.post(url, data=data)\n",
    "        response.raise_for_status()  # Raise error for bad HTTP status\n",
    "        \n",
    "        result = response.json()\n",
    "        if not result.get('ok'):\n",
    "            print(\"Telegram API returned an error:\", result)\n",
    "            # You can also raise an exception or log it here\n",
    "            \n",
    "        else:\n",
    "            print(\"Message sent successfully!\")\n",
    "\n",
    "    except requests.exceptions.RequestException as e:\n",
    "        print(\"Request failed:\", e)\n",
    "        # Handle network errors, timeouts, etc.\n"
   ]
  },
  {
   "cell_type": "markdown",
   "id": "3cbc60d1",
   "metadata": {},
   "source": [
    "### 8. Test the Flow"
   ]
  },
  {
   "cell_type": "code",
   "execution_count": 13,
   "id": "4f056922",
   "metadata": {},
   "outputs": [
    {
     "name": "stdout",
     "output_type": "stream",
     "text": [
      "Gmail service created successfully.\n",
      "Summary:\n",
      " This is a security alert from Google notifying nimsaraekanayakayu@gmail.com that a third-party application called MailSqueeze has been granted access to their Google Account data.\n",
      "\n",
      "The email advises the user to take action if they did not authorize this access, as it could indicate unauthorized activity. It provides links to check account activity, revoke MailSqueeze's access, and review overall security.\n",
      "Request failed: 400 Client Error: Bad Request for url: https://api.telegram.org/bot7878635317:AAHymlljGL59t5DaCX_RAHoSAat-FCx9Xfo/sendMessage\n",
      "Summary:\n",
      " This email announces \"Win A Lambo Round 12,\" a contest where participants can win a Lamborghini by obtaining a Golden Ticket.\n",
      "\n",
      "There are four ways to acquire Golden Tickets:\n",
      "1.  **Play the game:** Earn 1 ticket for every 0.005 BTC wagered on Multiply BTC/Betting.\n",
      "2.  **Buy tickets:** Purchase them for 0.00025 BTC each.\n",
      "3.  **Wheel of Fortune:** Use free spin credits (from emails) to win up to 50 tickets.\n",
      "4.  **FreeBitco.in Premium:** Premium members get more daily Wheel of Fortune free spins.\n",
      "\n",
      "A link to participate in Round 12 is provided.\n",
      "Request failed: 400 Client Error: Bad Request for url: https://api.telegram.org/bot7878635317:AAHymlljGL59t5DaCX_RAHoSAat-FCx9Xfo/sendMessage\n",
      "Summary:\n",
      " This email from Freebitco.in announces a limited-time promotion (48 hours) offering 2X Reward Points. These doubled points allow users to unlock rewards like iPhones, hardware wallets, and gift cards twice as fast. Users can earn these extra points by playing Bitcoin Dice and placing Bitcoin Bets.\n",
      "Request failed: 400 Client Error: Bad Request for url: https://api.telegram.org/bot7878635317:AAHymlljGL59t5DaCX_RAHoSAat-FCx9Xfo/sendMessage\n",
      "Summary:\n",
      " This Product Hunt daily newsletter for July 1st highlights three new tools:\n",
      "\n",
      "1.  **Cursor Agents:** An AI code companion that allows developers to run code tasks, fix bugs, and scaffold features from any browser or phone.\n",
      "2.  **Lunacal:** A tool that transforms standard scheduling links into custom landing pages, enabling users to embed videos, testimonials, and FAQs to better pre-sell prospects.\n",
      "3.  **Dittofeed:** An embeddable messaging suite that allows apps to quickly integrate full messaging features (email, SMS, push, WhatsApp, Slack) with just a few lines of code.\n",
      "\n",
      "The email also includes a sponsored ad for **Runner H**, an AI assistant designed to automate various personal and work tasks. Additionally, it offers a community initiative for **free feedback on pricing pages** and lists **yesterday's top 10 trending products**.\n",
      "Request failed: 400 Client Error: Bad Request for url: https://api.telegram.org/bot7878635317:AAHymlljGL59t5DaCX_RAHoSAat-FCx9Xfo/sendMessage\n",
      "Summary:\n",
      " This email from edX promotes a variety of **summer learning opportunities**, encouraging recipients to make the season memorable by learning something new.\n",
      "\n",
      "Despite a misleading subject line about \"in-demand computer science skills\" (which is not covered in the content), the email highlights:\n",
      "\n",
      "*   **Summer holiday programs** focused on professional growth, wellbeing, culinary arts, and language acquisition.\n",
      "*   Numerous **individual summer courses** across diverse subjects like:\n",
      "    *   Happiness and wellbeing (e.g., \"The Science of Happiness at Work,\" \"Managing Happiness,\" \"Music For Wellness,\" \"Mental Health and Nutrition\").\n",
      "    *   Food and beverages (e.g., \"The Science of Cooking,\" \"World of Wine,\" \"Beer: the science of brewing,\" \"Cannabis Science and Industries\").\n",
      "    *   Languages (e.g., \"Learn Spanish,\" \"Italian Language and Culture\").\n",
      "    *   Nutrition and health (e.g., \"Master of Science in Nutritional Science,\" \"Food, Nutrition and Health\").\n",
      "    *   Personal and professional development (e.g., \"Psychology of Deep Resilience,\" \"Remotely Humorous\").\n",
      "\n",
      "The email provides direct links to explore and enroll in these self-paced courses and programs on the edX platform.\n",
      "Request failed: 400 Client Error: Bad Request for url: https://api.telegram.org/bot7878635317:AAHymlljGL59t5DaCX_RAHoSAat-FCx9Xfo/sendMessage\n"
     ]
    }
   ],
   "source": [
    "service = get_gmail_service()\n",
    "messages = get_unread_emails(service)\n",
    "\n",
    "if not messages:\n",
    "    print(\"No unread emails found.\")\n",
    "else:\n",
    "    for msg in messages:\n",
    "        text = get_email_body(service, msg['id'])\n",
    "        summary = summarize_with_gemini(text)\n",
    "        print(\"Summary:\\n\", summary)\n",
    "        send_to_telegram(f\"📧 New Email Summary:\\n{summary}\")\n"
   ]
  },
  {
   "cell_type": "code",
   "execution_count": null,
   "id": "6e96bcc5",
   "metadata": {},
   "outputs": [],
   "source": []
  }
 ],
 "metadata": {
  "kernelspec": {
   "display_name": "venv",
   "language": "python",
   "name": "python3"
  },
  "language_info": {
   "codemirror_mode": {
    "name": "ipython",
    "version": 3
   },
   "file_extension": ".py",
   "mimetype": "text/x-python",
   "name": "python",
   "nbconvert_exporter": "python",
   "pygments_lexer": "ipython3",
   "version": "3.12.8"
  }
 },
 "nbformat": 4,
 "nbformat_minor": 5
}
