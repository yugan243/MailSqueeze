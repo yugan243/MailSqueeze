{
 "cells": [
  {
   "cell_type": "markdown",
   "id": "eddb2678",
   "metadata": {},
   "source": [
    "### 1. Setting up the Environment"
   ]
  },
  {
   "cell_type": "code",
   "execution_count": 19,
   "id": "d545f433",
   "metadata": {},
   "outputs": [],
   "source": [
    "import os\n",
    "from dotenv import load_dotenv\n",
    "from googleapiclient.discovery import build\n",
    "from google_auth_oauthlib.flow import InstalledAppFlow\n",
    "from google.auth.transport.requests import Request\n",
    "from google.oauth2.credentials import Credentials\n",
    "import google.generativeai as genai\n",
    "import base64\n",
    "import pickle\n",
    "import requests"
   ]
  },
  {
   "cell_type": "markdown",
   "id": "60767e2e",
   "metadata": {},
   "source": [
    "### 2. Load the env"
   ]
  },
  {
   "cell_type": "code",
   "execution_count": 20,
   "id": "158bb5a2",
   "metadata": {},
   "outputs": [],
   "source": [
    "load_dotenv()\n",
    "genai.configure(api_key=os.getenv(\"GEMINI_API_KEY\"))\n"
   ]
  },
  {
   "cell_type": "markdown",
   "id": "6db0396d",
   "metadata": {},
   "source": [
    "### 3. Gmail Authentication"
   ]
  },
  {
   "cell_type": "code",
   "execution_count": null,
   "id": "f2436fe7",
   "metadata": {},
   "outputs": [],
   "source": [
    "SCOPES = ['https://www.googleapis.com/auth/gmail.modify']\n",
    "\n",
    "def get_gmail_service():\n",
    "    \"\"\"\n",
    "    Authenticates and creates a Gmail API service instance.\n",
    "\n",
    "    Uses OAuth 2.0 credentials from 'tokens.json' if available and valid.\n",
    "    Otherwise, initiates the OAuth flow to obtain new credentials.\n",
    "\n",
    "    Returns:\n",
    "        service: Authorized Gmail API service instance.\n",
    "    \"\"\"\n",
    "    creds = None\n",
    "    if os.path.exists('tokens.json'):\n",
    "        creds = Credentials.from_authorized_user_file('tokens.json', SCOPES)\n",
    "        \n",
    "    if not creds or not creds.valid:\n",
    "        if creds and creds.expired and creds.refresh_token:\n",
    "            creds.refresh(Request())\n",
    "        else:  \n",
    "            flow = InstalledAppFlow.from_client_config(\n",
    "                {\n",
    "                    \"installed\": {\n",
    "                        \"client_id\": os.getenv(\"GOOGLE_CLIENT_ID\"),\n",
    "                        \"project_id\": \"mailsqueeze-bot\", \n",
    "                        \"auth_uri\": \"https://accounts.google.com/o/oauth2/auth\",\n",
    "                        \"token_uri\": \"https://oauth2.googleapis.com/token\",\n",
    "                        \"auth_provider_x509_cert_url\": \"https://www.googleapis.com/oauth2/v1/certs\",\n",
    "                        \"client_secret\": os.getenv(\"GOOGLE_CLIENT_SECRET\"),\n",
    "                        \"redirect_uris\": [\"http://localhost\"]\n",
    "                    }\n",
    "                }, SCOPES)\n",
    "            creds = flow.run_local_server(port=0)\n",
    "            \n",
    "        with open('tokens.json', 'w') as token:\n",
    "            token.write(creds.to_json())\n",
    "            \n",
    "    service = build('gmail', 'v1', credentials=creds)\n",
    "    print(\"Gmail service created successfully.\")\n",
    "    return service"
   ]
  },
  {
   "cell_type": "markdown",
   "id": "6bd702e8",
   "metadata": {},
   "source": [
    "### 4. Fetch unread email IDs"
   ]
  },
  {
   "cell_type": "code",
   "execution_count": null,
   "id": "acc54d68",
   "metadata": {},
   "outputs": [],
   "source": [
    "def get_unread_emails(service, max_results=5):\n",
    "    \"\"\"\n",
    "    Fetches unread email message IDs from the user's Gmail inbox.\n",
    "\n",
    "    Args:\n",
    "        service: Authorized Gmail API service instance.\n",
    "        max_results: Maximum number of unread messages to fetch (default is 5).\n",
    "\n",
    "    Returns:\n",
    "        list of dict: A list of messages, each represented as a dictionary \n",
    "                      containing message metadata including the 'id'.\n",
    "                      Returns an empty list if no unread emails are found.\n",
    "    \"\"\"\n",
    "    results = service.users().messages().list(\n",
    "        userId='me', \n",
    "        labelIds=['INBOX'], \n",
    "        q='is:unread', \n",
    "        maxResults=max_results\n",
    "        ).execute()\n",
    "    return results.get('messages', [])\n"
   ]
  },
  {
   "cell_type": "markdown",
   "id": "f0e1db28",
   "metadata": {},
   "source": [
    "### 5. Extract email content"
   ]
  },
  {
   "cell_type": "code",
   "execution_count": null,
   "id": "f9898619",
   "metadata": {},
   "outputs": [],
   "source": [
    "def get_email_body(service, msg_id):\n",
    "    \"\"\"\n",
    "    Retrieves the plain-text body of an email message by its ID.\n",
    "\n",
    "    Args:\n",
    "        service: Authorized Gmail API service instance.\n",
    "        msg_id: The ID of the email message to retrieve.\n",
    "\n",
    "    Returns:\n",
    "        str: The decoded plain-text content of the email body.\n",
    "             Returns \"No readable content found.\" if no plain-text part is found.\n",
    "    \"\"\"\n",
    "    msg = service.users().messages().get(userId='me', id=msg_id, format='full').execute()\n",
    "    parts = msg['payload'].get('parts', [])\n",
    "    for part in parts:\n",
    "        if part['mimeType'] == 'text/plain':\n",
    "            data = part['body']['data']\n",
    "            text = base64.urlsafe_b64decode(data).decode('utf-8')\n",
    "            return text\n",
    "    return \"No readable content found.\"\n"
   ]
  },
  {
   "cell_type": "markdown",
   "id": "32ca4651",
   "metadata": {},
   "source": [
    "### 6. Mark Email as read"
   ]
  },
  {
   "cell_type": "code",
   "execution_count": 24,
   "id": "aa3f6fb4",
   "metadata": {},
   "outputs": [],
   "source": [
    "def mark_email_as_read(service, msg_id):\n",
    "    \"\"\"\n",
    "    Marks a Gmail message as read by removing the 'UNREAD' label.\n",
    "    \n",
    "    Args:\n",
    "        service: Authorized Gmail API service instance.\n",
    "        msg_id: The ID of the Gmail message to mark as read.\n",
    "    \"\"\"\n",
    "    service.users().messages().modify(\n",
    "        userId='me',\n",
    "        id=msg_id,\n",
    "        body={'removeLabelIds': ['UNREAD']}\n",
    "    ).execute()\n",
    "    print(f\"Email with ID {msg_id} marked as read.\")\n"
   ]
  },
  {
   "cell_type": "markdown",
   "id": "97cbe494",
   "metadata": {},
   "source": [
    "### 7. Summarize with Gemini-2.5-flash"
   ]
  },
  {
   "cell_type": "code",
   "execution_count": null,
   "id": "d0f8f705",
   "metadata": {},
   "outputs": [],
   "source": [
    "\n",
    "model = genai.GenerativeModel('models/gemini-2.5-flash')\n",
    "\n",
    "def summarize_with_gemini(text):\n",
    "    \"\"\"\n",
    "    Summarizes the given text using the Gemini generative AI model.\n",
    "\n",
    "    Args:\n",
    "        text: The input string (email body) to summarize.\n",
    "\n",
    "    Returns:\n",
    "        str: The summarized text output from the model.\n",
    "    \"\"\"\n",
    "    prompt = f\"Summarize this email:\\n\\n{text}\"\n",
    "    response = model.generate_content(prompt)\n",
    "    return response.text.strip()\n"
   ]
  },
  {
   "cell_type": "markdown",
   "id": "7e6679c8",
   "metadata": {},
   "source": [
    "### 8. Send to Telegram"
   ]
  },
  {
   "cell_type": "code",
   "execution_count": null,
   "id": "44cf5a7f",
   "metadata": {},
   "outputs": [],
   "source": [
    "\n",
    "def send_to_telegram(message):\n",
    "    \"\"\"\n",
    "    Sends a message to a Telegram chat using a bot.\n",
    "\n",
    "    Args:\n",
    "        message: The string message to send to the Telegram chat.\n",
    "\n",
    "    Returns:\n",
    "        None\n",
    "    \"\"\"\n",
    "    token = os.getenv('TELEGRAM_BOT_TOKEN')\n",
    "    chat_id = os.getenv('TELEGRAM_CHAT_ID')\n",
    "    url = f\"https://api.telegram.org/bot{token}/sendMessage\"\n",
    "    data = {'chat_id': chat_id, 'text': message}\n",
    "    \n",
    "    try:\n",
    "        response = requests.post(url, data=data)\n",
    "        response.raise_for_status()  # Raise error for bad HTTP status\n",
    "        \n",
    "        result = response.json()\n",
    "        if not result.get('ok'):\n",
    "            print(\"Telegram API returned an error:\", result)\n",
    "            # You can also raise an exception or log it here\n",
    "            \n",
    "        else:\n",
    "            print(\"Message sent successfully!\")\n",
    "\n",
    "    except requests.exceptions.RequestException as e:\n",
    "        print(\"Request failed:\", e)\n",
    "        # Handle network errors, timeouts, etc.\n"
   ]
  },
  {
   "cell_type": "markdown",
   "id": "3cbc60d1",
   "metadata": {},
   "source": [
    "### 9. Test the Flow"
   ]
  },
  {
   "cell_type": "code",
   "execution_count": null,
   "id": "4f056922",
   "metadata": {},
   "outputs": [
    {
     "name": "stdout",
     "output_type": "stream",
     "text": [
      "Gmail service created successfully.\n",
      "Unread emails are summarizing and sending to telegram\n",
      "\n",
      "Message sent successfully!\n",
      "Email with ID 197a9d78f2e89167 marked as read.\n",
      "processed email with ID: 197a9d78f2e89167\n",
      "Message sent successfully!\n",
      "Email with ID 197a8ddbfddfef3b marked as read.\n",
      "processed email with ID: 197a8ddbfddfef3b\n",
      "Message sent successfully!\n",
      "Email with ID 197a8a8a280c9e50 marked as read.\n",
      "processed email with ID: 197a8a8a280c9e50\n",
      "Message sent successfully!\n",
      "Email with ID 197a7c3596accad4 marked as read.\n",
      "processed email with ID: 197a7c3596accad4\n",
      "Message sent successfully!\n",
      "Email with ID 197a5ec94bf0ca10 marked as read.\n",
      "processed email with ID: 197a5ec94bf0ca10\n"
     ]
    }
   ],
   "source": [
    "service = get_gmail_service()\n",
    "messages = get_unread_emails(service)\n",
    "\n",
    "if not messages:\n",
    "    print(\"No unread emails found.\")\n",
    "else:\n",
    "    print(\"Unread emails are summarizing and sending to telegram\\n\")\n",
    "    for msg in messages:\n",
    "        text = get_email_body(service, msg['id'])\n",
    "        summary = summarize_with_gemini(text)\n",
    "        send_to_telegram(f\"📧 New Email Summary:\\n{summary}\")\n",
    "        mark_email_as_read(service, msg['id'])\n",
    "        \n",
    "        print(\"processed email with ID:\", msg['id'])"
   ]
  },
  {
   "cell_type": "code",
   "execution_count": null,
   "id": "6e96bcc5",
   "metadata": {},
   "outputs": [],
   "source": []
  }
 ],
 "metadata": {
  "kernelspec": {
   "display_name": "venv",
   "language": "python",
   "name": "python3"
  },
  "language_info": {
   "codemirror_mode": {
    "name": "ipython",
    "version": 3
   },
   "file_extension": ".py",
   "mimetype": "text/x-python",
   "name": "python",
   "nbconvert_exporter": "python",
   "pygments_lexer": "ipython3",
   "version": "3.12.8"
  }
 },
 "nbformat": 4,
 "nbformat_minor": 5
}
