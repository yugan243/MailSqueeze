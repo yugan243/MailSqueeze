{
 "cells": [
  {
   "cell_type": "markdown",
   "id": "eddb2678",
   "metadata": {},
   "source": [
    "### 1. Setting up the Environment"
   ]
  },
  {
   "cell_type": "code",
   "execution_count": 9,
   "id": "d545f433",
   "metadata": {},
   "outputs": [],
   "source": [
    "import os\n",
    "from dotenv import load_dotenv\n",
    "from googleapiclient.discovery import build\n",
    "from google_auth_oauthlib.flow import InstalledAppFlow\n",
    "from google.auth.transport.requests import Request\n",
    "from google.oauth2.credentials import Credentials\n",
    "import google.generativeai as genai\n",
    "import base64\n",
    "import pickle\n",
    "import requests"
   ]
  },
  {
   "cell_type": "markdown",
   "id": "60767e2e",
   "metadata": {},
   "source": [
    "### 2. Load the env"
   ]
  },
  {
   "cell_type": "code",
   "execution_count": 10,
   "id": "158bb5a2",
   "metadata": {},
   "outputs": [],
   "source": [
    "load_dotenv()\n",
    "genai.configure(api_key=os.getenv(\"GEMINI_API_KEY\"))\n"
   ]
  },
  {
   "cell_type": "markdown",
   "id": "6db0396d",
   "metadata": {},
   "source": [
    "### 3. Gmail Authentication"
   ]
  },
  {
   "cell_type": "code",
   "execution_count": 11,
   "id": "f2436fe7",
   "metadata": {},
   "outputs": [],
   "source": [
    "SCOPES = ['https://www.googleapis.com/auth/gmail.readonly']\n",
    "\n",
    "def get_gmail_service():\n",
    "    creds = None\n",
    "    if os.path.exists('tokens.json'):\n",
    "        creds = Credentials.from_authorized_user_file('tokens.json', SCOPES)\n",
    "        \n",
    "    if not creds or not creds.valid:\n",
    "        if creds and creds.expired and creds.refresh_token:\n",
    "            creds.refresh(Request())\n",
    "        else:\n",
    "            flow = InstalledAppFlow.from_client_secrets_file(\n",
    "                'credentials.json', SCOPES)\n",
    "            creds = flow.run_local_server(port=0)\n",
    "            \n",
    "        with open('tokens.json', 'w') as token:\n",
    "            token.write(creds.to_json())\n",
    "            \n",
    "    service = build('gmail', 'v1', credentials=creds)\n",
    "    print(\"Gmail service created successfully.\")\n",
    "    return service"
   ]
  },
  {
   "cell_type": "markdown",
   "id": "6bd702e8",
   "metadata": {},
   "source": [
    "### 4. Fetch unread email IDs"
   ]
  },
  {
   "cell_type": "code",
   "execution_count": 12,
   "id": "acc54d68",
   "metadata": {},
   "outputs": [],
   "source": [
    "def get_unread_emails(service, max_results=5):\n",
    "    results = service.users().messages().list(\n",
    "        userId='me', \n",
    "        labelIds=['INBOX'], \n",
    "        q='is:unread', \n",
    "        maxResults=max_results\n",
    "        ).execute()\n",
    "    return results.get('messages', [])\n"
   ]
  },
  {
   "cell_type": "markdown",
   "id": "f0e1db28",
   "metadata": {},
   "source": [
    "### 5. Extract email content"
   ]
  },
  {
   "cell_type": "code",
   "execution_count": 13,
   "id": "f9898619",
   "metadata": {},
   "outputs": [],
   "source": [
    "def get_email_body(service, msg_id):\n",
    "    msg = service.users().messages().get(userId='me', id=msg_id, format='full').execute()\n",
    "    parts = msg['payload'].get('parts', [])\n",
    "    for part in parts:\n",
    "        if part['mimeType'] == 'text/plain':\n",
    "            data = part['body']['data']\n",
    "            text = base64.urlsafe_b64decode(data).decode('utf-8')\n",
    "            return text\n",
    "    return \"No readable content found.\"\n"
   ]
  },
  {
   "cell_type": "markdown",
   "id": "97cbe494",
   "metadata": {},
   "source": [
    "### 6. Summarize with Gemini-2.5-flash"
   ]
  },
  {
   "cell_type": "code",
   "execution_count": 14,
   "id": "d0f8f705",
   "metadata": {},
   "outputs": [],
   "source": [
    "\n",
    "model = genai.GenerativeModel('models/gemini-2.5-flash')\n",
    "\n",
    "def summarize_with_gemini(text):\n",
    "    prompt = f\"Summarize this email:\\n\\n{text}\"\n",
    "    response = model.generate_content(prompt)\n",
    "    return response.text.strip()\n"
   ]
  },
  {
   "cell_type": "markdown",
   "id": "7e6679c8",
   "metadata": {},
   "source": [
    "### 7. Send to Telegram"
   ]
  },
  {
   "cell_type": "code",
   "execution_count": 15,
   "id": "44cf5a7f",
   "metadata": {},
   "outputs": [],
   "source": [
    "\n",
    "def send_to_telegram(message):\n",
    "    token = os.getenv('TELEGRAM_BOT_TOKEN')\n",
    "    chat_id = os.getenv('TELEGRAM_CHAT_ID')\n",
    "    url = f\"https://api.telegram.org/bot{token}/sendMessage\"\n",
    "    data = {'chat_id': chat_id, 'text': message}\n",
    "    \n",
    "    try:\n",
    "        response = requests.post(url, data=data)\n",
    "        response.raise_for_status()  # Raise error for bad HTTP status\n",
    "        \n",
    "        result = response.json()\n",
    "        if not result.get('ok'):\n",
    "            print(\"Telegram API returned an error:\", result)\n",
    "            # You can also raise an exception or log it here\n",
    "            \n",
    "        else:\n",
    "            print(\"Message sent successfully!\")\n",
    "\n",
    "    except requests.exceptions.RequestException as e:\n",
    "        print(\"Request failed:\", e)\n",
    "        # Handle network errors, timeouts, etc.\n"
   ]
  },
  {
   "cell_type": "markdown",
   "id": "3cbc60d1",
   "metadata": {},
   "source": [
    "### 8. Test the Flow"
   ]
  },
  {
   "cell_type": "code",
   "execution_count": null,
   "id": "4f056922",
   "metadata": {},
   "outputs": [
    {
     "name": "stdout",
     "output_type": "stream",
     "text": [
      "Please visit this URL to authorize this application: https://accounts.google.com/o/oauth2/auth?response_type=code&client_id=358911145603-pss18f3clvu0sqk5cpuiqj9tru1rm261.apps.googleusercontent.com&redirect_uri=http%3A%2F%2Flocalhost%3A8188%2F&scope=https%3A%2F%2Fwww.googleapis.com%2Fauth%2Fgmail.readonly&state=OxSwvkCmcktQ9ynSGctBdPgX4jH6Dd&access_type=offline\n",
      "Gmail service created successfully.\n",
      "Summary:\n",
      " This email from FreeBitco.in promotes upgrading to its \"Premium\" membership. It encourages users to enhance their experience and maximize earnings, highlighting benefits such as:\n",
      "\n",
      "*   Free spins on the Wheel of Fortune\n",
      "*   Additional interest on BTC deposits\n",
      "*   Cashback on betting\n",
      "*   High Annual Percentage Yield (APY) on FUN savings.\n",
      "\n",
      "The email also connects the Premium membership to FUNToken's goal of bringing transparency and efficiency to the iGaming industry, inviting members to learn more about FUNToken's journey with decentralization. Users are urged to click a link to upgrade and start receiving Premium benefits.\n",
      "Message sent successfully!\n",
      "Summary:\n",
      " This email from FreeBitco.in promotes their **Premium Membership**.\n",
      "\n",
      "It encourages users to upgrade to enhance their experience and unlock rewards through FUNTokens. Key benefits include:\n",
      "*   16 Free Spins on the Wheel of Fortune\n",
      "*   25% additional interest on BTC deposits\n",
      "*   1% cashback on Multiply BTC/betting\n",
      "*   10% APY on FUN Savings\n",
      "\n",
      "Users are urged to \"Upgrade to Premium today\" via a provided link. The email also highlights FUNToken's role in changing the iGaming industry and offers a link to learn more about it.\n",
      "Message sent successfully!\n",
      "Summary:\n",
      " This email from FUN Token encourages users to earn daily $FUN rewards by engaging with their platform on Telegram. The primary method involves playing six different games (like Roll the Dice, Coin Flip, Roulette) daily, with rewards up to 270,000 $FUN available based on tiered wagering amounts. Users need to add an AI bot to participate. The email also mentions additional ways to earn $FUN within their Telegram group, such as chat rewards and crypto quizzes. Links are provided to start playing games and join their official Telegram group.\n",
      "Message sent successfully!\n",
      "Summary:\n",
      " This email announces the launch of **Supra's first money market**.\n",
      "\n",
      "It invites recipients to a **live talk with SupraLend's founders** on \"The SUP\" to discuss building lending on Supra, their future vision, and the impact of AutoFi and AI Agents. The stream is available to watch now on **X (formerly Twitter) and YouTube**.\n",
      "\n",
      "The email is sent on behalf of Entropy Finance Foundation.\n",
      "Message sent successfully!\n",
      "Summary:\n",
      " This Product Hunt daily newsletter for July 2nd highlights a selection of new and notable products and resources.\n",
      "\n",
      "**Key features include:**\n",
      "\n",
      "*   **Nothing Phone 3:** Praised for its unique transparent design, upgraded camera, longer battery life, and snappier processor, continuing its distinctive aesthetic.\n",
      "*   **Tailored Labs:** A browser-based video editor that allows users to create rough cuts and perform edits by typing commands (e.g., \"trim silence,\" \"add lower third\").\n",
      "*   **Lazy 2.0:** A one-keystroke tool for instantly capturing context from any screen (emails, PDFs, videos) and dropping it into a live chat for personal notes and \"brain dumps.\"\n",
      "\n",
      "The email also includes an advertisement for **Bolt**, an AI-powered no-code platform for building web and mobile apps quickly.\n",
      "\n",
      "Additionally, it offers a special resource for founders: **free pitch-deck feedback** from Mike Stachowiak, a YC alum and investor.\n",
      "\n",
      "Finally, the newsletter lists the **top 10 products from the previous day** on Product Hunt, such as Cursor Agents, Dynamic Mockups, and Rybbit.\n",
      "Message sent successfully!\n"
     ]
    }
   ],
   "source": [
    "service = get_gmail_service()\n",
    "messages = get_unread_emails(service)\n",
    "\n",
    "if not messages:\n",
    "    print(\"No unread emails found.\")\n",
    "else:\n",
    "    print(\"Unread emails are summarizing and sending to telegram\\n\")\n",
    "    for msg in messages:\n",
    "        text = get_email_body(service, msg['id'])\n",
    "        summary = summarize_with_gemini(text)\n",
    "        send_to_telegram(f\"📧 New Email Summary:\\n{summary}\")\n",
    "        print(\"processed email with ID:\", msg['id'])"
   ]
  },
  {
   "cell_type": "code",
   "execution_count": null,
   "id": "6e96bcc5",
   "metadata": {},
   "outputs": [],
   "source": []
  }
 ],
 "metadata": {
  "kernelspec": {
   "display_name": "venv",
   "language": "python",
   "name": "python3"
  },
  "language_info": {
   "codemirror_mode": {
    "name": "ipython",
    "version": 3
   },
   "file_extension": ".py",
   "mimetype": "text/x-python",
   "name": "python",
   "nbconvert_exporter": "python",
   "pygments_lexer": "ipython3",
   "version": "3.12.8"
  }
 },
 "nbformat": 4,
 "nbformat_minor": 5
}
